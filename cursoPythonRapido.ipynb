{
  "nbformat": 4,
  "nbformat_minor": 0,
  "metadata": {
    "colab": {
      "name": "cursoPythonRapido.ipynb",
      "provenance": [],
      "collapsed_sections": [],
      "authorship_tag": "ABX9TyMqFH7yzhgSFTncD5MuBaaC",
      "include_colab_link": true
    },
    "kernelspec": {
      "name": "python3",
      "display_name": "Python 3"
    },
    "language_info": {
      "name": "python"
    }
  },
  "cells": [
    {
      "cell_type": "markdown",
      "metadata": {
        "id": "view-in-github",
        "colab_type": "text"
      },
      "source": [
        "<a href=\"https://colab.research.google.com/github/rcarasek/Aprendendo-Python/blob/main/cursoPythonRapido.ipynb\" target=\"_parent\"><img src=\"https://colab.research.google.com/assets/colab-badge.svg\" alt=\"Open In Colab\"/></a>"
      ]
    },
    {
      "cell_type": "code",
      "metadata": {
        "id": "I5vRNP-qsyt_"
      },
      "source": [
        ""
      ],
      "execution_count": null,
      "outputs": []
    },
    {
      "cell_type": "markdown",
      "metadata": {
        "id": "Uo_bJQ6UwlIR"
      },
      "source": [
        "###E aí, mundão!\n",
        "\n",
        "\n",
        "  "
      ]
    },
    {
      "cell_type": "code",
      "metadata": {
        "colab": {
          "base_uri": "https://localhost:8080/"
        },
        "id": "YOiLfM3vw2hm",
        "outputId": "42d5f99b-5b63-4914-dd3d-fb5ca9d19a1f"
      },
      "source": [
        "print(\"curso\" + \" de Python\")\n",
        "\n",
        "  \n"
      ],
      "execution_count": 3,
      "outputs": [
        {
          "output_type": "stream",
          "text": [
            "curso de Python\n"
          ],
          "name": "stdout"
        }
      ]
    },
    {
      "cell_type": "code",
      "metadata": {
        "colab": {
          "base_uri": "https://localhost:8080/"
        },
        "id": "7ID6vvR0xJrC",
        "outputId": "8d4df584-b23c-4519-f0b4-b874dfa676da"
      },
      "source": [
        "print(\"        CURSO de {}, aula {} achado no {}.... nota {}    \".format(\"Python\", 1, \"Youtube        \", 10).lower().upper().strip())\n"
      ],
      "execution_count": 17,
      "outputs": [
        {
          "output_type": "stream",
          "text": [
            "CURSO DE PYTHON, AULA 1 ACHADO NO YOUTUBE        .... NOTA 10\n"
          ],
          "name": "stdout"
        }
      ]
    },
    {
      "cell_type": "code",
      "metadata": {
        "id": "wTlVTXquzJZi"
      },
      "source": [
        ""
      ],
      "execution_count": null,
      "outputs": []
    },
    {
      "cell_type": "markdown",
      "metadata": {
        "id": "jEROmOwN1Jfe"
      },
      "source": [
        "lidando com numeros e operadores numericos\n",
        "\n"
      ]
    },
    {
      "cell_type": "code",
      "metadata": {
        "colab": {
          "base_uri": "https://localhost:8080/"
        },
        "id": "x5kK6hMG1WCI",
        "outputId": "a45bdf0f-6311-4d12-a8e1-c66be707b9de"
      },
      "source": [
        "type(2)"
      ],
      "execution_count": 18,
      "outputs": [
        {
          "output_type": "execute_result",
          "data": {
            "text/plain": [
              "int"
            ]
          },
          "metadata": {
            "tags": []
          },
          "execution_count": 18
        }
      ]
    },
    {
      "cell_type": "code",
      "metadata": {
        "colab": {
          "base_uri": "https://localhost:8080/"
        },
        "id": "vVaCTH7q1gnt",
        "outputId": "e6a127c2-e350-41fc-df95-3578ceb3ec47"
      },
      "source": [
        "type(2.5)\n"
      ],
      "execution_count": 19,
      "outputs": [
        {
          "output_type": "execute_result",
          "data": {
            "text/plain": [
              "float"
            ]
          },
          "metadata": {
            "tags": []
          },
          "execution_count": 19
        }
      ]
    },
    {
      "cell_type": "code",
      "metadata": {
        "colab": {
          "base_uri": "https://localhost:8080/",
          "height": 163
        },
        "id": "l-TnZTJ-1jVl",
        "outputId": "bca37618-cad4-464d-bc39-f9ea328054c6"
      },
      "source": [
        "type(2,5)"
      ],
      "execution_count": 20,
      "outputs": [
        {
          "output_type": "error",
          "ename": "TypeError",
          "evalue": "ignored",
          "traceback": [
            "\u001b[0;31m---------------------------------------------------------------------------\u001b[0m",
            "\u001b[0;31mTypeError\u001b[0m                                 Traceback (most recent call last)",
            "\u001b[0;32m<ipython-input-20-08eb63a1762c>\u001b[0m in \u001b[0;36m<module>\u001b[0;34m()\u001b[0m\n\u001b[0;32m----> 1\u001b[0;31m \u001b[0mtype\u001b[0m\u001b[0;34m(\u001b[0m\u001b[0;36m2\u001b[0m\u001b[0;34m,\u001b[0m\u001b[0;36m5\u001b[0m\u001b[0;34m)\u001b[0m\u001b[0;34m\u001b[0m\u001b[0;34m\u001b[0m\u001b[0m\n\u001b[0m",
            "\u001b[0;31mTypeError\u001b[0m: type() takes 1 or 3 arguments"
          ]
        }
      ]
    },
    {
      "cell_type": "code",
      "metadata": {
        "colab": {
          "base_uri": "https://localhost:8080/"
        },
        "id": "ODEdb2OC1lNN",
        "outputId": "137f925a-d8ac-4f90-8f13-80ca695a39e5"
      },
      "source": [
        "4/2\n"
      ],
      "execution_count": 21,
      "outputs": [
        {
          "output_type": "execute_result",
          "data": {
            "text/plain": [
              "2.0"
            ]
          },
          "metadata": {
            "tags": []
          },
          "execution_count": 21
        }
      ]
    },
    {
      "cell_type": "code",
      "metadata": {
        "colab": {
          "base_uri": "https://localhost:8080/"
        },
        "id": "V-M4oRF51qH0",
        "outputId": "a6d26103-4648-4a86-ac19-045bdaa21bc8"
      },
      "source": [
        "type(4/2)"
      ],
      "execution_count": 22,
      "outputs": [
        {
          "output_type": "execute_result",
          "data": {
            "text/plain": [
              "float"
            ]
          },
          "metadata": {
            "tags": []
          },
          "execution_count": 22
        }
      ]
    },
    {
      "cell_type": "code",
      "metadata": {
        "colab": {
          "base_uri": "https://localhost:8080/"
        },
        "id": "YgMOU1ic1r5o",
        "outputId": "f8d16dbd-c490-40e7-9568-cacfe5cda1bd"
      },
      "source": [
        "type(4//2)"
      ],
      "execution_count": 23,
      "outputs": [
        {
          "output_type": "execute_result",
          "data": {
            "text/plain": [
              "int"
            ]
          },
          "metadata": {
            "tags": []
          },
          "execution_count": 23
        }
      ]
    },
    {
      "cell_type": "code",
      "metadata": {
        "colab": {
          "base_uri": "https://localhost:8080/"
        },
        "id": "WjzwOy8Y1wAt",
        "outputId": "6daabc03-a69b-4637-e49e-582304bb5c0e"
      },
      "source": [
        "s = 5\n",
        "s *= 3\n",
        "s\n"
      ],
      "execution_count": 33,
      "outputs": [
        {
          "output_type": "execute_result",
          "data": {
            "text/plain": [
              "15"
            ]
          },
          "metadata": {
            "tags": []
          },
          "execution_count": 33
        }
      ]
    },
    {
      "cell_type": "code",
      "metadata": {
        "colab": {
          "base_uri": "https://localhost:8080/"
        },
        "id": "EVIAjg7p7mXo",
        "outputId": "b3a9a96f-89f1-4087-8709-d73c52593402"
      },
      "source": [
        "lista = [\"a\", 'b', \"c\", [1,2,3]]\n",
        "lista[3]\n",
        "\n"
      ],
      "execution_count": 35,
      "outputs": [
        {
          "output_type": "execute_result",
          "data": {
            "text/plain": [
              "[1, 2, 3]"
            ]
          },
          "metadata": {
            "tags": []
          },
          "execution_count": 35
        }
      ]
    },
    {
      "cell_type": "code",
      "metadata": {
        "colab": {
          "base_uri": "https://localhost:8080/"
        },
        "id": "-qlnQ5Tt-D4u",
        "outputId": "1f10065f-3dea-4050-f26a-8e972542c248"
      },
      "source": [
        "lista.pop()"
      ],
      "execution_count": 36,
      "outputs": [
        {
          "output_type": "execute_result",
          "data": {
            "text/plain": [
              "[1, 2, 3]"
            ]
          },
          "metadata": {
            "tags": []
          },
          "execution_count": 36
        }
      ]
    },
    {
      "cell_type": "code",
      "metadata": {
        "colab": {
          "base_uri": "https://localhost:8080/"
        },
        "id": "sAIojUGN-Okb",
        "outputId": "0a4b9628-3627-4c23-85aa-87e32c7d1563"
      },
      "source": [
        "lista"
      ],
      "execution_count": 37,
      "outputs": [
        {
          "output_type": "execute_result",
          "data": {
            "text/plain": [
              "['a', 'b', 'c']"
            ]
          },
          "metadata": {
            "tags": []
          },
          "execution_count": 37
        }
      ]
    },
    {
      "cell_type": "code",
      "metadata": {
        "colab": {
          "base_uri": "https://localhost:8080/",
          "height": 35
        },
        "id": "n0wyXZA0-Q1K",
        "outputId": "fe858a49-38da-4c6d-90e0-b8d0f18fcdfa"
      },
      "source": [
        "lista.pop(0)\n"
      ],
      "execution_count": 38,
      "outputs": [
        {
          "output_type": "execute_result",
          "data": {
            "application/vnd.google.colaboratory.intrinsic+json": {
              "type": "string"
            },
            "text/plain": [
              "'a'"
            ]
          },
          "metadata": {
            "tags": []
          },
          "execution_count": 38
        }
      ]
    },
    {
      "cell_type": "code",
      "metadata": {
        "colab": {
          "base_uri": "https://localhost:8080/"
        },
        "id": "vFM80w68-bqS",
        "outputId": "b03f044a-cca6-4c1a-8751-925da74d38e7"
      },
      "source": [
        "lista"
      ],
      "execution_count": 39,
      "outputs": [
        {
          "output_type": "execute_result",
          "data": {
            "text/plain": [
              "['b', 'c']"
            ]
          },
          "metadata": {
            "tags": []
          },
          "execution_count": 39
        }
      ]
    },
    {
      "cell_type": "code",
      "metadata": {
        "id": "jo23pmk4-coC"
      },
      "source": [
        "tupla = \"a\", 'b', \"c\", [1,2,3]\n"
      ],
      "execution_count": 42,
      "outputs": []
    },
    {
      "cell_type": "code",
      "metadata": {
        "colab": {
          "base_uri": "https://localhost:8080/"
        },
        "id": "rv-iKmsu-nFi",
        "outputId": "a2697266-36fb-4763-f636-faf37db338d4"
      },
      "source": [
        "tupla"
      ],
      "execution_count": 43,
      "outputs": [
        {
          "output_type": "execute_result",
          "data": {
            "text/plain": [
              "('a', 'b', 'c', [1, 2, 3])"
            ]
          },
          "metadata": {
            "tags": []
          },
          "execution_count": 43
        }
      ]
    },
    {
      "cell_type": "code",
      "metadata": {
        "colab": {
          "base_uri": "https://localhost:8080/",
          "height": 163
        },
        "id": "rTzf7iks-v6J",
        "outputId": "208f851a-047d-4aee-875f-0e06fbef7ab9"
      },
      "source": [
        "tupla.pop()"
      ],
      "execution_count": 44,
      "outputs": [
        {
          "output_type": "error",
          "ename": "AttributeError",
          "evalue": "ignored",
          "traceback": [
            "\u001b[0;31m---------------------------------------------------------------------------\u001b[0m",
            "\u001b[0;31mAttributeError\u001b[0m                            Traceback (most recent call last)",
            "\u001b[0;32m<ipython-input-44-cc41d8499586>\u001b[0m in \u001b[0;36m<module>\u001b[0;34m()\u001b[0m\n\u001b[0;32m----> 1\u001b[0;31m \u001b[0mtupla\u001b[0m\u001b[0;34m.\u001b[0m\u001b[0mpop\u001b[0m\u001b[0;34m(\u001b[0m\u001b[0;34m)\u001b[0m\u001b[0;34m\u001b[0m\u001b[0;34m\u001b[0m\u001b[0m\n\u001b[0m",
            "\u001b[0;31mAttributeError\u001b[0m: 'tuple' object has no attribute 'pop'"
          ]
        }
      ]
    },
    {
      "cell_type": "markdown",
      "metadata": {
        "id": "ERCEM5Qg_Jk3"
      },
      "source": [
        "em tuplas não dá para dar pop()"
      ]
    },
    {
      "cell_type": "code",
      "metadata": {
        "id": "EbzXN1uN-0d5"
      },
      "source": [
        "DicionarioDisciplinas = {1: \"portugues\", 2:\"ingles\", 3:'matematica'}\n"
      ],
      "execution_count": 56,
      "outputs": []
    },
    {
      "cell_type": "code",
      "metadata": {
        "colab": {
          "base_uri": "https://localhost:8080/",
          "height": 35
        },
        "id": "x5M5tlr6AOfj",
        "outputId": "880e52da-0eb9-45db-d693-bbee63cd620a"
      },
      "source": [
        "DicionarioDisciplinas[1]"
      ],
      "execution_count": 57,
      "outputs": [
        {
          "output_type": "execute_result",
          "data": {
            "application/vnd.google.colaboratory.intrinsic+json": {
              "type": "string"
            },
            "text/plain": [
              "'portugues'"
            ]
          },
          "metadata": {
            "tags": []
          },
          "execution_count": 57
        }
      ]
    },
    {
      "cell_type": "code",
      "metadata": {
        "id": "FN7c9nRsAQJu"
      },
      "source": [
        "DicionarioDisciplinas[1] = 'história'"
      ],
      "execution_count": 58,
      "outputs": []
    },
    {
      "cell_type": "code",
      "metadata": {
        "colab": {
          "base_uri": "https://localhost:8080/"
        },
        "id": "qGJ9_mnEB-rG",
        "outputId": "f5675eef-4b30-415e-9b67-3296e4da78d3"
      },
      "source": [
        "DicionarioDisciplinas"
      ],
      "execution_count": 59,
      "outputs": [
        {
          "output_type": "execute_result",
          "data": {
            "text/plain": [
              "{1: 'história', 2: 'ingles', 3: 'matematica'}"
            ]
          },
          "metadata": {
            "tags": []
          },
          "execution_count": 59
        }
      ]
    },
    {
      "cell_type": "code",
      "metadata": {
        "colab": {
          "base_uri": "https://localhost:8080/"
        },
        "id": "TXmpDtyKCA76",
        "outputId": "3ac8568a-1256-4815-ff92-03fe33131ca6"
      },
      "source": [
        "DicionarioDisciplinas['teste'] = 5\n",
        "DicionarioDisciplinas"
      ],
      "execution_count": 61,
      "outputs": [
        {
          "output_type": "execute_result",
          "data": {
            "text/plain": [
              "{1: 'história', 2: 'ingles', 3: 'matematica', 'história': 5, 'teste': 5}"
            ]
          },
          "metadata": {
            "tags": []
          },
          "execution_count": 61
        }
      ]
    },
    {
      "cell_type": "code",
      "metadata": {
        "colab": {
          "base_uri": "https://localhost:8080/"
        },
        "id": "6BCFjy8VCJgS",
        "outputId": "587a249a-7d45-447d-e5b0-44e7b386c342"
      },
      "source": [
        "x= 0   # x recebe 0\n",
        "x==0\n"
      ],
      "execution_count": 71,
      "outputs": [
        {
          "output_type": "execute_result",
          "data": {
            "text/plain": [
              "True"
            ]
          },
          "metadata": {
            "tags": []
          },
          "execution_count": 71
        }
      ]
    },
    {
      "cell_type": "code",
      "metadata": {
        "colab": {
          "base_uri": "https://localhost:8080/"
        },
        "id": "kVulSjXvCuNY",
        "outputId": "5bf749a7-98b1-4d5c-a4cc-b09dd1f04728"
      },
      "source": [
        "x!=0"
      ],
      "execution_count": 68,
      "outputs": [
        {
          "output_type": "execute_result",
          "data": {
            "text/plain": [
              "False"
            ]
          },
          "metadata": {
            "tags": []
          },
          "execution_count": 68
        }
      ]
    },
    {
      "cell_type": "code",
      "metadata": {
        "colab": {
          "base_uri": "https://localhost:8080/",
          "height": 129
        },
        "id": "P7OnwxNyCy8I",
        "outputId": "7cfe7916-7fab-4b86-f82e-4135bbef9094"
      },
      "source": [
        "x<>0"
      ],
      "execution_count": 69,
      "outputs": [
        {
          "output_type": "error",
          "ename": "SyntaxError",
          "evalue": "ignored",
          "traceback": [
            "\u001b[0;36m  File \u001b[0;32m\"<ipython-input-69-1a72646bce5c>\"\u001b[0;36m, line \u001b[0;32m1\u001b[0m\n\u001b[0;31m    x<>0\u001b[0m\n\u001b[0m      ^\u001b[0m\n\u001b[0;31mSyntaxError\u001b[0m\u001b[0;31m:\u001b[0m invalid syntax\n"
          ]
        }
      ]
    },
    {
      "cell_type": "code",
      "metadata": {
        "colab": {
          "base_uri": "https://localhost:8080/"
        },
        "id": "U55ImS0uDCIo",
        "outputId": "737ad579-b5a9-4d16-d9da-caafcaaae672"
      },
      "source": [
        "x>0"
      ],
      "execution_count": 70,
      "outputs": [
        {
          "output_type": "execute_result",
          "data": {
            "text/plain": [
              "False"
            ]
          },
          "metadata": {
            "tags": []
          },
          "execution_count": 70
        }
      ]
    },
    {
      "cell_type": "code",
      "metadata": {
        "colab": {
          "base_uri": "https://localhost:8080/"
        },
        "id": "AnpIysWxDFVg",
        "outputId": "72142b43-ea03-4aad-c2aa-26ef2a26aaa2"
      },
      "source": [
        "cc = [0,1,2,3,4,5,6,7]\n",
        "cc\n"
      ],
      "execution_count": 7,
      "outputs": [
        {
          "output_type": "execute_result",
          "data": {
            "text/plain": [
              "[0, 1, 2, 3, 4, 5, 6, 7]"
            ]
          },
          "metadata": {
            "tags": []
          },
          "execution_count": 7
        }
      ]
    },
    {
      "cell_type": "code",
      "metadata": {
        "colab": {
          "base_uri": "https://localhost:8080/"
        },
        "id": "bA4Szl8q5ESq",
        "outputId": "243d38ba-1285-4adf-cf93-0d7a578926d6"
      },
      "source": [
        "for vv in range(4,15,3):\n",
        "  print(vv)\n",
        "\n"
      ],
      "execution_count": 12,
      "outputs": [
        {
          "output_type": "stream",
          "text": [
            "4\n",
            "7\n",
            "10\n",
            "13\n"
          ],
          "name": "stdout"
        }
      ]
    },
    {
      "cell_type": "code",
      "metadata": {
        "colab": {
          "base_uri": "https://localhost:8080/"
        },
        "id": "Bn7QshYB6BP3",
        "outputId": "6913245f-ede0-4aef-a84a-86f4b686a7b5"
      },
      "source": [
        "quadrados = []\n",
        "for nnn in range(10):\n",
        "  quadrados.append(nnn**2)\n",
        "\n",
        "quadrados\n",
        "\n"
      ],
      "execution_count": 14,
      "outputs": [
        {
          "output_type": "execute_result",
          "data": {
            "text/plain": [
              "[0, 1, 4, 9, 16, 25, 36, 49, 64, 81]"
            ]
          },
          "metadata": {
            "tags": []
          },
          "execution_count": 14
        }
      ]
    },
    {
      "cell_type": "code",
      "metadata": {
        "colab": {
          "base_uri": "https://localhost:8080/"
        },
        "id": "681W2CD37aig",
        "outputId": "fa9cd61e-6d71-4f7b-d516-705a4dfc7ead"
      },
      "source": [
        "qqq = [nnn**2 for nnn in range (10)]\n",
        "qqq"
      ],
      "execution_count": 16,
      "outputs": [
        {
          "output_type": "execute_result",
          "data": {
            "text/plain": [
              "[0, 1, 4, 9, 16, 25, 36, 49, 64, 81]"
            ]
          },
          "metadata": {
            "tags": []
          },
          "execution_count": 16
        }
      ]
    },
    {
      "cell_type": "code",
      "metadata": {
        "id": "dIm_75d78Byn"
      },
      "source": [
        "def exibir_mensagem(parametro):\n",
        "  print('Mensagem: ' + parametro)\n",
        "\n",
        "\n"
      ],
      "execution_count": 17,
      "outputs": []
    },
    {
      "cell_type": "code",
      "metadata": {
        "colab": {
          "base_uri": "https://localhost:8080/"
        },
        "id": "xCv441HA8kTG",
        "outputId": "ae040d42-1a27-4fea-d050-80053ac2880d"
      },
      "source": [
        "mmm = \"olá pessoal\"\n",
        "exibir_mensagem(mmm)"
      ],
      "execution_count": 18,
      "outputs": [
        {
          "output_type": "stream",
          "text": [
            "Mensagem: olá pessoal\n"
          ],
          "name": "stdout"
        }
      ]
    },
    {
      "cell_type": "code",
      "metadata": {
        "id": "Z41EWNTR8sqN"
      },
      "source": [
        "import numpy as np\n"
      ],
      "execution_count": 25,
      "outputs": []
    },
    {
      "cell_type": "code",
      "metadata": {
        "colab": {
          "base_uri": "https://localhost:8080/"
        },
        "id": "V3mXEzmQ-dyK",
        "outputId": "4f06f9be-61ca-49e3-a159-4f83b53082d1"
      },
      "source": [
        "np.ones(6)"
      ],
      "execution_count": 26,
      "outputs": [
        {
          "output_type": "execute_result",
          "data": {
            "text/plain": [
              "array([1., 1., 1., 1., 1., 1.])"
            ]
          },
          "metadata": {
            "tags": []
          },
          "execution_count": 26
        }
      ]
    },
    {
      "cell_type": "code",
      "metadata": {
        "id": "A9MaKsQA-g4J"
      },
      "source": [
        "from numpy import ones"
      ],
      "execution_count": 27,
      "outputs": []
    },
    {
      "cell_type": "code",
      "metadata": {
        "colab": {
          "base_uri": "https://localhost:8080/"
        },
        "id": "U0nxpyiu-3Ro",
        "outputId": "4985a13d-3d09-47b1-ec9e-1f3cfb6bbd2c"
      },
      "source": [
        "ones(8)"
      ],
      "execution_count": 28,
      "outputs": [
        {
          "output_type": "execute_result",
          "data": {
            "text/plain": [
              "array([1., 1., 1., 1., 1., 1., 1., 1.])"
            ]
          },
          "metadata": {
            "tags": []
          },
          "execution_count": 28
        }
      ]
    },
    {
      "cell_type": "code",
      "metadata": {
        "colab": {
          "base_uri": "https://localhost:8080/"
        },
        "id": "rwTfrxDW-48x",
        "outputId": "210c513c-c991-458d-dc4f-75beaabde037"
      },
      "source": [
        "!pip install yfinance"
      ],
      "execution_count": 29,
      "outputs": [
        {
          "output_type": "stream",
          "text": [
            "Collecting yfinance\n",
            "  Downloading https://files.pythonhosted.org/packages/a7/ee/315752b9ef281ba83c62aa7ec2e2074f85223da6e7e74efb4d3e11c0f510/yfinance-0.1.59.tar.gz\n",
            "Requirement already satisfied: pandas>=0.24 in /usr/local/lib/python3.7/dist-packages (from yfinance) (1.1.5)\n",
            "Requirement already satisfied: numpy>=1.15 in /usr/local/lib/python3.7/dist-packages (from yfinance) (1.19.5)\n",
            "Requirement already satisfied: requests>=2.20 in /usr/local/lib/python3.7/dist-packages (from yfinance) (2.23.0)\n",
            "Requirement already satisfied: multitasking>=0.0.7 in /usr/local/lib/python3.7/dist-packages (from yfinance) (0.0.9)\n",
            "Collecting lxml>=4.5.1\n",
            "\u001b[?25l  Downloading https://files.pythonhosted.org/packages/cf/4d/6537313bf58fe22b508f08cf3eb86b29b6f9edf68e00454224539421073b/lxml-4.6.3-cp37-cp37m-manylinux1_x86_64.whl (5.5MB)\n",
            "\u001b[K     |████████████████████████████████| 5.5MB 16.6MB/s \n",
            "\u001b[?25hRequirement already satisfied: pytz>=2017.2 in /usr/local/lib/python3.7/dist-packages (from pandas>=0.24->yfinance) (2018.9)\n",
            "Requirement already satisfied: python-dateutil>=2.7.3 in /usr/local/lib/python3.7/dist-packages (from pandas>=0.24->yfinance) (2.8.1)\n",
            "Requirement already satisfied: certifi>=2017.4.17 in /usr/local/lib/python3.7/dist-packages (from requests>=2.20->yfinance) (2020.12.5)\n",
            "Requirement already satisfied: idna<3,>=2.5 in /usr/local/lib/python3.7/dist-packages (from requests>=2.20->yfinance) (2.10)\n",
            "Requirement already satisfied: chardet<4,>=3.0.2 in /usr/local/lib/python3.7/dist-packages (from requests>=2.20->yfinance) (3.0.4)\n",
            "Requirement already satisfied: urllib3!=1.25.0,!=1.25.1,<1.26,>=1.21.1 in /usr/local/lib/python3.7/dist-packages (from requests>=2.20->yfinance) (1.24.3)\n",
            "Requirement already satisfied: six>=1.5 in /usr/local/lib/python3.7/dist-packages (from python-dateutil>=2.7.3->pandas>=0.24->yfinance) (1.15.0)\n",
            "Building wheels for collected packages: yfinance\n",
            "  Building wheel for yfinance (setup.py) ... \u001b[?25l\u001b[?25hdone\n",
            "  Created wheel for yfinance: filename=yfinance-0.1.59-py2.py3-none-any.whl size=23442 sha256=9a3e4e340e4f886b800668ff5b00c2385967d0e9be83bdf06d0dc39263e5eaf9\n",
            "  Stored in directory: /root/.cache/pip/wheels/f8/2a/0f/4b5a86e1d52e451757eb6bc17fd899629f0925c777741b6d04\n",
            "Successfully built yfinance\n",
            "Installing collected packages: lxml, yfinance\n",
            "  Found existing installation: lxml 4.2.6\n",
            "    Uninstalling lxml-4.2.6:\n",
            "      Successfully uninstalled lxml-4.2.6\n",
            "Successfully installed lxml-4.6.3 yfinance-0.1.59\n"
          ],
          "name": "stdout"
        }
      ]
    },
    {
      "cell_type": "code",
      "metadata": {
        "id": "ZnwC_sRc_uRW"
      },
      "source": [
        "import yfinance as yf"
      ],
      "execution_count": 30,
      "outputs": []
    },
    {
      "cell_type": "code",
      "metadata": {
        "colab": {
          "base_uri": "https://localhost:8080/",
          "height": 467
        },
        "id": "hVYZ7M5__4rf",
        "outputId": "1e2eb670-f229-4583-fd19-392477811127"
      },
      "source": [
        "yf.download('^BVSP')"
      ],
      "execution_count": 32,
      "outputs": [
        {
          "output_type": "stream",
          "text": [
            "\r[*********************100%***********************]  1 of 1 completed\n"
          ],
          "name": "stdout"
        },
        {
          "output_type": "execute_result",
          "data": {
            "text/html": [
              "<div>\n",
              "<style scoped>\n",
              "    .dataframe tbody tr th:only-of-type {\n",
              "        vertical-align: middle;\n",
              "    }\n",
              "\n",
              "    .dataframe tbody tr th {\n",
              "        vertical-align: top;\n",
              "    }\n",
              "\n",
              "    .dataframe thead th {\n",
              "        text-align: right;\n",
              "    }\n",
              "</style>\n",
              "<table border=\"1\" class=\"dataframe\">\n",
              "  <thead>\n",
              "    <tr style=\"text-align: right;\">\n",
              "      <th></th>\n",
              "      <th>Open</th>\n",
              "      <th>High</th>\n",
              "      <th>Low</th>\n",
              "      <th>Close</th>\n",
              "      <th>Adj Close</th>\n",
              "      <th>Volume</th>\n",
              "    </tr>\n",
              "    <tr>\n",
              "      <th>Date</th>\n",
              "      <th></th>\n",
              "      <th></th>\n",
              "      <th></th>\n",
              "      <th></th>\n",
              "      <th></th>\n",
              "      <th></th>\n",
              "    </tr>\n",
              "  </thead>\n",
              "  <tbody>\n",
              "    <tr>\n",
              "      <th>1993-04-27</th>\n",
              "      <td>24.799999</td>\n",
              "      <td>25.400000</td>\n",
              "      <td>24.500000</td>\n",
              "      <td>24.500000</td>\n",
              "      <td>24.500000</td>\n",
              "      <td>0</td>\n",
              "    </tr>\n",
              "    <tr>\n",
              "      <th>1993-04-28</th>\n",
              "      <td>24.500000</td>\n",
              "      <td>24.600000</td>\n",
              "      <td>23.700001</td>\n",
              "      <td>24.299999</td>\n",
              "      <td>24.299999</td>\n",
              "      <td>0</td>\n",
              "    </tr>\n",
              "    <tr>\n",
              "      <th>1993-04-29</th>\n",
              "      <td>24.299999</td>\n",
              "      <td>24.799999</td>\n",
              "      <td>23.700001</td>\n",
              "      <td>23.700001</td>\n",
              "      <td>23.700001</td>\n",
              "      <td>0</td>\n",
              "    </tr>\n",
              "    <tr>\n",
              "      <th>1993-04-30</th>\n",
              "      <td>23.700001</td>\n",
              "      <td>24.200001</td>\n",
              "      <td>23.700001</td>\n",
              "      <td>24.100000</td>\n",
              "      <td>24.100000</td>\n",
              "      <td>0</td>\n",
              "    </tr>\n",
              "    <tr>\n",
              "      <th>1993-05-03</th>\n",
              "      <td>24.100000</td>\n",
              "      <td>24.400000</td>\n",
              "      <td>23.799999</td>\n",
              "      <td>24.100000</td>\n",
              "      <td>24.100000</td>\n",
              "      <td>0</td>\n",
              "    </tr>\n",
              "    <tr>\n",
              "      <th>...</th>\n",
              "      <td>...</td>\n",
              "      <td>...</td>\n",
              "      <td>...</td>\n",
              "      <td>...</td>\n",
              "      <td>...</td>\n",
              "      <td>...</td>\n",
              "    </tr>\n",
              "    <tr>\n",
              "      <th>2021-04-26</th>\n",
              "      <td>120534.000000</td>\n",
              "      <td>121393.000000</td>\n",
              "      <td>119860.000000</td>\n",
              "      <td>120595.000000</td>\n",
              "      <td>120595.000000</td>\n",
              "      <td>7095300</td>\n",
              "    </tr>\n",
              "    <tr>\n",
              "      <th>2021-04-27</th>\n",
              "      <td>120595.000000</td>\n",
              "      <td>121012.000000</td>\n",
              "      <td>119003.000000</td>\n",
              "      <td>119388.000000</td>\n",
              "      <td>119388.000000</td>\n",
              "      <td>8362300</td>\n",
              "    </tr>\n",
              "    <tr>\n",
              "      <th>2021-04-28</th>\n",
              "      <td>119392.000000</td>\n",
              "      <td>121276.000000</td>\n",
              "      <td>119392.000000</td>\n",
              "      <td>121053.000000</td>\n",
              "      <td>121053.000000</td>\n",
              "      <td>9081500</td>\n",
              "    </tr>\n",
              "    <tr>\n",
              "      <th>2021-04-29</th>\n",
              "      <td>121053.000000</td>\n",
              "      <td>121498.000000</td>\n",
              "      <td>119703.000000</td>\n",
              "      <td>120066.000000</td>\n",
              "      <td>120066.000000</td>\n",
              "      <td>8500200</td>\n",
              "    </tr>\n",
              "    <tr>\n",
              "      <th>2021-04-30</th>\n",
              "      <td>120064.000000</td>\n",
              "      <td>120125.000000</td>\n",
              "      <td>118894.000000</td>\n",
              "      <td>118894.000000</td>\n",
              "      <td>118894.000000</td>\n",
              "      <td>11093200</td>\n",
              "    </tr>\n",
              "  </tbody>\n",
              "</table>\n",
              "<p>6926 rows × 6 columns</p>\n",
              "</div>"
            ],
            "text/plain": [
              "                     Open           High  ...      Adj Close    Volume\n",
              "Date                                      ...                         \n",
              "1993-04-27      24.799999      25.400000  ...      24.500000         0\n",
              "1993-04-28      24.500000      24.600000  ...      24.299999         0\n",
              "1993-04-29      24.299999      24.799999  ...      23.700001         0\n",
              "1993-04-30      23.700001      24.200001  ...      24.100000         0\n",
              "1993-05-03      24.100000      24.400000  ...      24.100000         0\n",
              "...                   ...            ...  ...            ...       ...\n",
              "2021-04-26  120534.000000  121393.000000  ...  120595.000000   7095300\n",
              "2021-04-27  120595.000000  121012.000000  ...  119388.000000   8362300\n",
              "2021-04-28  119392.000000  121276.000000  ...  121053.000000   9081500\n",
              "2021-04-29  121053.000000  121498.000000  ...  120066.000000   8500200\n",
              "2021-04-30  120064.000000  120125.000000  ...  118894.000000  11093200\n",
              "\n",
              "[6926 rows x 6 columns]"
            ]
          },
          "metadata": {
            "tags": []
          },
          "execution_count": 32
        }
      ]
    },
    {
      "cell_type": "code",
      "metadata": {
        "id": "lm9pFDwlASxe"
      },
      "source": [
        ""
      ],
      "execution_count": null,
      "outputs": []
    }
  ]
}